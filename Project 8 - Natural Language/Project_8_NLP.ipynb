{
 "cells": [
  {
   "cell_type": "code",
   "execution_count": 1,
   "metadata": {
    "colab": {
     "base_uri": "https://localhost:8080/"
    },
    "id": "Lg7vtw-YkTZz",
    "outputId": "6ab25808-cd35-4cc9-a376-a636ffb3c21b"
   },
   "outputs": [
    {
     "name": "stdout",
     "output_type": "stream",
     "text": [
      "[nltk_data] Downloading package stopwords to /root/nltk_data...\n",
      "[nltk_data]   Package stopwords is already up-to-date!\n"
     ]
    }
   ],
   "source": [
    "import math\n",
    "import numpy as np\n",
    "import pandas as pd\n",
    "\n",
    "import nltk\n",
    "nltk.download('stopwords')\n",
    "\n",
    "import warnings\n",
    "warnings.filterwarnings('ignore')"
   ]
  },
  {
   "cell_type": "code",
   "execution_count": 2,
   "metadata": {
    "id": "eF4ETwfEzp-s"
   },
   "outputs": [],
   "source": [
    "import time\n",
    "\n",
    "timer_array = {}\n",
    "\n",
    "def start_timer(method_name):\n",
    "  timer_array[method_name] = time.time()\n",
    "\n",
    "def end_timer(method_name):\n",
    "  passed = (time.time() - timer_array[method_name])\n",
    "  print(\"\"+method_name+\" time: %s seconds \\n\" % passed)\n",
    "  return passed"
   ]
  },
  {
   "cell_type": "code",
   "execution_count": 3,
   "metadata": {
    "id": "Goug8oKMkwr2"
   },
   "outputs": [],
   "source": [
    "path_base = '/content/drive/My Drive/Colab Notebooks/Project 8/'"
   ]
  },
  {
   "cell_type": "code",
   "execution_count": 4,
   "metadata": {
    "id": "Gvdt3uFhlBDy"
   },
   "outputs": [],
   "source": [
    "tweets_raw = pd.read_csv(path_base + 'Tweets.csv')"
   ]
  },
  {
   "cell_type": "code",
   "execution_count": 5,
   "metadata": {
    "colab": {
     "base_uri": "https://localhost:8080/"
    },
    "id": "ejjB9CZil01T",
    "outputId": "f08ec5ce-56d5-4c8f-dca8-c12260d772e5"
   },
   "outputs": [
    {
     "data": {
      "text/plain": [
       "(14640, 15)"
      ]
     },
     "execution_count": 5,
     "metadata": {
      "tags": []
     },
     "output_type": "execute_result"
    }
   ],
   "source": [
    "tweets_raw.shape"
   ]
  },
  {
   "cell_type": "code",
   "execution_count": 6,
   "metadata": {
    "colab": {
     "base_uri": "https://localhost:8080/"
    },
    "id": "NiI2Cx-KlOv_",
    "outputId": "6d8a7d22-df92-4138-b4a3-5c0e245e6ee8"
   },
   "outputs": [
    {
     "name": "stdout",
     "output_type": "stream",
     "text": [
      "<class 'pandas.core.frame.DataFrame'>\n",
      "RangeIndex: 14640 entries, 0 to 14639\n",
      "Data columns (total 15 columns):\n",
      " #   Column                        Non-Null Count  Dtype  \n",
      "---  ------                        --------------  -----  \n",
      " 0   tweet_id                      14640 non-null  int64  \n",
      " 1   airline_sentiment             14640 non-null  object \n",
      " 2   airline_sentiment_confidence  14640 non-null  float64\n",
      " 3   negativereason                9178 non-null   object \n",
      " 4   negativereason_confidence     10522 non-null  float64\n",
      " 5   airline                       14640 non-null  object \n",
      " 6   airline_sentiment_gold        40 non-null     object \n",
      " 7   name                          14640 non-null  object \n",
      " 8   negativereason_gold           32 non-null     object \n",
      " 9   retweet_count                 14640 non-null  int64  \n",
      " 10  text                          14640 non-null  object \n",
      " 11  tweet_coord                   1019 non-null   object \n",
      " 12  tweet_created                 14640 non-null  object \n",
      " 13  tweet_location                9907 non-null   object \n",
      " 14  user_timezone                 9820 non-null   object \n",
      "dtypes: float64(2), int64(2), object(11)\n",
      "memory usage: 1.7+ MB\n"
     ]
    }
   ],
   "source": [
    "tweets_raw.info()"
   ]
  },
  {
   "cell_type": "code",
   "execution_count": 7,
   "metadata": {
    "colab": {
     "base_uri": "https://localhost:8080/",
     "height": 287
    },
    "id": "KbVG6YqulxQ_",
    "outputId": "77aca62b-705c-42ce-c5a5-ca20877d9a69"
   },
   "outputs": [
    {
     "data": {
      "text/html": [
       "<div>\n",
       "<style scoped>\n",
       "    .dataframe tbody tr th:only-of-type {\n",
       "        vertical-align: middle;\n",
       "    }\n",
       "\n",
       "    .dataframe tbody tr th {\n",
       "        vertical-align: top;\n",
       "    }\n",
       "\n",
       "    .dataframe thead th {\n",
       "        text-align: right;\n",
       "    }\n",
       "</style>\n",
       "<table border=\"1\" class=\"dataframe\">\n",
       "  <thead>\n",
       "    <tr style=\"text-align: right;\">\n",
       "      <th></th>\n",
       "      <th>tweet_id</th>\n",
       "      <th>airline_sentiment_confidence</th>\n",
       "      <th>negativereason_confidence</th>\n",
       "      <th>retweet_count</th>\n",
       "    </tr>\n",
       "  </thead>\n",
       "  <tbody>\n",
       "    <tr>\n",
       "      <th>count</th>\n",
       "      <td>1.464000e+04</td>\n",
       "      <td>14640.000000</td>\n",
       "      <td>10522.000000</td>\n",
       "      <td>14640.000000</td>\n",
       "    </tr>\n",
       "    <tr>\n",
       "      <th>mean</th>\n",
       "      <td>5.692184e+17</td>\n",
       "      <td>0.900169</td>\n",
       "      <td>0.638298</td>\n",
       "      <td>0.082650</td>\n",
       "    </tr>\n",
       "    <tr>\n",
       "      <th>std</th>\n",
       "      <td>7.791112e+14</td>\n",
       "      <td>0.162830</td>\n",
       "      <td>0.330440</td>\n",
       "      <td>0.745778</td>\n",
       "    </tr>\n",
       "    <tr>\n",
       "      <th>min</th>\n",
       "      <td>5.675883e+17</td>\n",
       "      <td>0.335000</td>\n",
       "      <td>0.000000</td>\n",
       "      <td>0.000000</td>\n",
       "    </tr>\n",
       "    <tr>\n",
       "      <th>25%</th>\n",
       "      <td>5.685592e+17</td>\n",
       "      <td>0.692300</td>\n",
       "      <td>0.360600</td>\n",
       "      <td>0.000000</td>\n",
       "    </tr>\n",
       "    <tr>\n",
       "      <th>50%</th>\n",
       "      <td>5.694779e+17</td>\n",
       "      <td>1.000000</td>\n",
       "      <td>0.670600</td>\n",
       "      <td>0.000000</td>\n",
       "    </tr>\n",
       "    <tr>\n",
       "      <th>75%</th>\n",
       "      <td>5.698905e+17</td>\n",
       "      <td>1.000000</td>\n",
       "      <td>1.000000</td>\n",
       "      <td>0.000000</td>\n",
       "    </tr>\n",
       "    <tr>\n",
       "      <th>max</th>\n",
       "      <td>5.703106e+17</td>\n",
       "      <td>1.000000</td>\n",
       "      <td>1.000000</td>\n",
       "      <td>44.000000</td>\n",
       "    </tr>\n",
       "  </tbody>\n",
       "</table>\n",
       "</div>"
      ],
      "text/plain": [
       "           tweet_id  ...  retweet_count\n",
       "count  1.464000e+04  ...   14640.000000\n",
       "mean   5.692184e+17  ...       0.082650\n",
       "std    7.791112e+14  ...       0.745778\n",
       "min    5.675883e+17  ...       0.000000\n",
       "25%    5.685592e+17  ...       0.000000\n",
       "50%    5.694779e+17  ...       0.000000\n",
       "75%    5.698905e+17  ...       0.000000\n",
       "max    5.703106e+17  ...      44.000000\n",
       "\n",
       "[8 rows x 4 columns]"
      ]
     },
     "execution_count": 7,
     "metadata": {
      "tags": []
     },
     "output_type": "execute_result"
    }
   ],
   "source": [
    "tweets_raw.describe()"
   ]
  },
  {
   "cell_type": "code",
   "execution_count": 8,
   "metadata": {
    "colab": {
     "base_uri": "https://localhost:8080/"
    },
    "id": "aOvLe3bol_eH",
    "outputId": "bbf9df80-2ce9-4f79-d7d0-8a4f8662b5e8"
   },
   "outputs": [
    {
     "data": {
      "text/plain": [
       "negativereason_gold             14608\n",
       "airline_sentiment_gold          14600\n",
       "tweet_coord                     13621\n",
       "negativereason                   5462\n",
       "user_timezone                    4820\n",
       "tweet_location                   4733\n",
       "negativereason_confidence        4118\n",
       "tweet_created                       0\n",
       "text                                0\n",
       "retweet_count                       0\n",
       "name                                0\n",
       "airline                             0\n",
       "airline_sentiment_confidence        0\n",
       "airline_sentiment                   0\n",
       "tweet_id                            0\n",
       "dtype: int64"
      ]
     },
     "execution_count": 8,
     "metadata": {
      "tags": []
     },
     "output_type": "execute_result"
    }
   ],
   "source": [
    "tweets_raw.isnull().sum().sort_values(ascending = False)"
   ]
  },
  {
   "cell_type": "code",
   "execution_count": 9,
   "metadata": {
    "colab": {
     "base_uri": "https://localhost:8080/",
     "height": 434
    },
    "id": "dHKj-k5CmQLU",
    "outputId": "24aec069-df1c-409f-b03d-4e840b6e5592"
   },
   "outputs": [
    {
     "data": {
      "text/html": [
       "<div>\n",
       "<style scoped>\n",
       "    .dataframe tbody tr th:only-of-type {\n",
       "        vertical-align: middle;\n",
       "    }\n",
       "\n",
       "    .dataframe tbody tr th {\n",
       "        vertical-align: top;\n",
       "    }\n",
       "\n",
       "    .dataframe thead th {\n",
       "        text-align: right;\n",
       "    }\n",
       "</style>\n",
       "<table border=\"1\" class=\"dataframe\">\n",
       "  <thead>\n",
       "    <tr style=\"text-align: right;\">\n",
       "      <th></th>\n",
       "      <th>tweet_id</th>\n",
       "      <th>airline_sentiment</th>\n",
       "      <th>airline_sentiment_confidence</th>\n",
       "      <th>negativereason</th>\n",
       "      <th>negativereason_confidence</th>\n",
       "      <th>airline</th>\n",
       "      <th>airline_sentiment_gold</th>\n",
       "      <th>name</th>\n",
       "      <th>negativereason_gold</th>\n",
       "      <th>retweet_count</th>\n",
       "      <th>text</th>\n",
       "      <th>tweet_coord</th>\n",
       "      <th>tweet_created</th>\n",
       "      <th>tweet_location</th>\n",
       "      <th>user_timezone</th>\n",
       "    </tr>\n",
       "  </thead>\n",
       "  <tbody>\n",
       "    <tr>\n",
       "      <th>0</th>\n",
       "      <td>570306133677760513</td>\n",
       "      <td>neutral</td>\n",
       "      <td>1.0000</td>\n",
       "      <td>NaN</td>\n",
       "      <td>NaN</td>\n",
       "      <td>Virgin America</td>\n",
       "      <td>NaN</td>\n",
       "      <td>cairdin</td>\n",
       "      <td>NaN</td>\n",
       "      <td>0</td>\n",
       "      <td>@VirginAmerica What @dhepburn said.</td>\n",
       "      <td>NaN</td>\n",
       "      <td>2015-02-24 11:35:52 -0800</td>\n",
       "      <td>NaN</td>\n",
       "      <td>Eastern Time (US &amp; Canada)</td>\n",
       "    </tr>\n",
       "    <tr>\n",
       "      <th>1</th>\n",
       "      <td>570301130888122368</td>\n",
       "      <td>positive</td>\n",
       "      <td>0.3486</td>\n",
       "      <td>NaN</td>\n",
       "      <td>0.0000</td>\n",
       "      <td>Virgin America</td>\n",
       "      <td>NaN</td>\n",
       "      <td>jnardino</td>\n",
       "      <td>NaN</td>\n",
       "      <td>0</td>\n",
       "      <td>@VirginAmerica plus you've added commercials t...</td>\n",
       "      <td>NaN</td>\n",
       "      <td>2015-02-24 11:15:59 -0800</td>\n",
       "      <td>NaN</td>\n",
       "      <td>Pacific Time (US &amp; Canada)</td>\n",
       "    </tr>\n",
       "    <tr>\n",
       "      <th>2</th>\n",
       "      <td>570301083672813571</td>\n",
       "      <td>neutral</td>\n",
       "      <td>0.6837</td>\n",
       "      <td>NaN</td>\n",
       "      <td>NaN</td>\n",
       "      <td>Virgin America</td>\n",
       "      <td>NaN</td>\n",
       "      <td>yvonnalynn</td>\n",
       "      <td>NaN</td>\n",
       "      <td>0</td>\n",
       "      <td>@VirginAmerica I didn't today... Must mean I n...</td>\n",
       "      <td>NaN</td>\n",
       "      <td>2015-02-24 11:15:48 -0800</td>\n",
       "      <td>Lets Play</td>\n",
       "      <td>Central Time (US &amp; Canada)</td>\n",
       "    </tr>\n",
       "    <tr>\n",
       "      <th>3</th>\n",
       "      <td>570301031407624196</td>\n",
       "      <td>negative</td>\n",
       "      <td>1.0000</td>\n",
       "      <td>Bad Flight</td>\n",
       "      <td>0.7033</td>\n",
       "      <td>Virgin America</td>\n",
       "      <td>NaN</td>\n",
       "      <td>jnardino</td>\n",
       "      <td>NaN</td>\n",
       "      <td>0</td>\n",
       "      <td>@VirginAmerica it's really aggressive to blast...</td>\n",
       "      <td>NaN</td>\n",
       "      <td>2015-02-24 11:15:36 -0800</td>\n",
       "      <td>NaN</td>\n",
       "      <td>Pacific Time (US &amp; Canada)</td>\n",
       "    </tr>\n",
       "    <tr>\n",
       "      <th>4</th>\n",
       "      <td>570300817074462722</td>\n",
       "      <td>negative</td>\n",
       "      <td>1.0000</td>\n",
       "      <td>Can't Tell</td>\n",
       "      <td>1.0000</td>\n",
       "      <td>Virgin America</td>\n",
       "      <td>NaN</td>\n",
       "      <td>jnardino</td>\n",
       "      <td>NaN</td>\n",
       "      <td>0</td>\n",
       "      <td>@VirginAmerica and it's a really big bad thing...</td>\n",
       "      <td>NaN</td>\n",
       "      <td>2015-02-24 11:14:45 -0800</td>\n",
       "      <td>NaN</td>\n",
       "      <td>Pacific Time (US &amp; Canada)</td>\n",
       "    </tr>\n",
       "  </tbody>\n",
       "</table>\n",
       "</div>"
      ],
      "text/plain": [
       "             tweet_id  ...               user_timezone\n",
       "0  570306133677760513  ...  Eastern Time (US & Canada)\n",
       "1  570301130888122368  ...  Pacific Time (US & Canada)\n",
       "2  570301083672813571  ...  Central Time (US & Canada)\n",
       "3  570301031407624196  ...  Pacific Time (US & Canada)\n",
       "4  570300817074462722  ...  Pacific Time (US & Canada)\n",
       "\n",
       "[5 rows x 15 columns]"
      ]
     },
     "execution_count": 9,
     "metadata": {
      "tags": []
     },
     "output_type": "execute_result"
    }
   ],
   "source": [
    "tweets_raw.head()"
   ]
  },
  {
   "cell_type": "markdown",
   "metadata": {
    "id": "S_fHauKWm_GB"
   },
   "source": [
    "# Understand of data-columns"
   ]
  },
  {
   "cell_type": "code",
   "execution_count": 10,
   "metadata": {
    "id": "mRGSvQo5mcRO"
   },
   "outputs": [],
   "source": [
    "tweets_text = tweets_raw[[\"airline_sentiment\",\"text\"]]"
   ]
  },
  {
   "cell_type": "code",
   "execution_count": 11,
   "metadata": {
    "colab": {
     "base_uri": "https://localhost:8080/"
    },
    "id": "nWwXG0ssn81A",
    "outputId": "91ae8efe-2a06-4399-d783-ca83ab26d1e1"
   },
   "outputs": [
    {
     "data": {
      "text/plain": [
       "(14640, 2)"
      ]
     },
     "execution_count": 11,
     "metadata": {
      "tags": []
     },
     "output_type": "execute_result"
    }
   ],
   "source": [
    "tweets_text.shape"
   ]
  },
  {
   "cell_type": "code",
   "execution_count": 12,
   "metadata": {
    "colab": {
     "base_uri": "https://localhost:8080/",
     "height": 197
    },
    "id": "RYiVq-5hoZYX",
    "outputId": "15fb2725-d349-4fe4-e30c-8586f5bfead9"
   },
   "outputs": [
    {
     "data": {
      "text/html": [
       "<div>\n",
       "<style scoped>\n",
       "    .dataframe tbody tr th:only-of-type {\n",
       "        vertical-align: middle;\n",
       "    }\n",
       "\n",
       "    .dataframe tbody tr th {\n",
       "        vertical-align: top;\n",
       "    }\n",
       "\n",
       "    .dataframe thead th {\n",
       "        text-align: right;\n",
       "    }\n",
       "</style>\n",
       "<table border=\"1\" class=\"dataframe\">\n",
       "  <thead>\n",
       "    <tr style=\"text-align: right;\">\n",
       "      <th></th>\n",
       "      <th>airline_sentiment</th>\n",
       "      <th>text</th>\n",
       "    </tr>\n",
       "  </thead>\n",
       "  <tbody>\n",
       "    <tr>\n",
       "      <th>0</th>\n",
       "      <td>neutral</td>\n",
       "      <td>@VirginAmerica What @dhepburn said.</td>\n",
       "    </tr>\n",
       "    <tr>\n",
       "      <th>1</th>\n",
       "      <td>positive</td>\n",
       "      <td>@VirginAmerica plus you've added commercials t...</td>\n",
       "    </tr>\n",
       "    <tr>\n",
       "      <th>2</th>\n",
       "      <td>neutral</td>\n",
       "      <td>@VirginAmerica I didn't today... Must mean I n...</td>\n",
       "    </tr>\n",
       "    <tr>\n",
       "      <th>3</th>\n",
       "      <td>negative</td>\n",
       "      <td>@VirginAmerica it's really aggressive to blast...</td>\n",
       "    </tr>\n",
       "    <tr>\n",
       "      <th>4</th>\n",
       "      <td>negative</td>\n",
       "      <td>@VirginAmerica and it's a really big bad thing...</td>\n",
       "    </tr>\n",
       "  </tbody>\n",
       "</table>\n",
       "</div>"
      ],
      "text/plain": [
       "  airline_sentiment                                               text\n",
       "0           neutral                @VirginAmerica What @dhepburn said.\n",
       "1          positive  @VirginAmerica plus you've added commercials t...\n",
       "2           neutral  @VirginAmerica I didn't today... Must mean I n...\n",
       "3          negative  @VirginAmerica it's really aggressive to blast...\n",
       "4          negative  @VirginAmerica and it's a really big bad thing..."
      ]
     },
     "execution_count": 12,
     "metadata": {
      "tags": []
     },
     "output_type": "execute_result"
    }
   ],
   "source": [
    "tweets_text.head()"
   ]
  },
  {
   "cell_type": "code",
   "execution_count": 13,
   "metadata": {
    "id": "5qrgu5nR7skB"
   },
   "outputs": [],
   "source": [
    "tweets_text.airline_sentiment.iloc[tweets_text.airline_sentiment == \"negative\"] = -1\n",
    "tweets_text.airline_sentiment.iloc[tweets_text.airline_sentiment == \"neutral\"] = 0\n",
    "tweets_text.airline_sentiment.iloc[tweets_text.airline_sentiment == \"positive\"] = 1"
   ]
  },
  {
   "cell_type": "code",
   "execution_count": 14,
   "metadata": {
    "colab": {
     "base_uri": "https://localhost:8080/"
    },
    "id": "Vmow508N9EwP",
    "outputId": "168c1900-bbce-4846-c2b0-f8dfa5dd97dc"
   },
   "outputs": [
    {
     "name": "stdout",
     "output_type": "stream",
     "text": [
      "<class 'pandas.core.frame.DataFrame'>\n",
      "RangeIndex: 14640 entries, 0 to 14639\n",
      "Data columns (total 2 columns):\n",
      " #   Column             Non-Null Count  Dtype \n",
      "---  ------             --------------  ----- \n",
      " 0   airline_sentiment  14640 non-null  int32 \n",
      " 1   text               14640 non-null  object\n",
      "dtypes: int32(1), object(1)\n",
      "memory usage: 171.7+ KB\n"
     ]
    }
   ],
   "source": [
    "tweets_text.airline_sentiment = tweets_text.airline_sentiment.astype('int32')\n",
    "tweets_text.info()"
   ]
  },
  {
   "cell_type": "markdown",
   "metadata": {
    "id": "65Kym5XKonRS"
   },
   "source": [
    "# Text pre-processing"
   ]
  },
  {
   "cell_type": "code",
   "execution_count": 15,
   "metadata": {
    "id": "l6IdrtvRsHGm"
   },
   "outputs": [],
   "source": [
    "#Measuring the entire pre-processing time\n",
    "start_timer('pre_processing')"
   ]
  },
  {
   "cell_type": "code",
   "execution_count": 16,
   "metadata": {
    "colab": {
     "base_uri": "https://localhost:8080/"
    },
    "id": "qf4YjZCAoe-b",
    "outputId": "7813d2fb-893f-48c7-8ee7-c142cbfb3206"
   },
   "outputs": [
    {
     "name": "stdout",
     "output_type": "stream",
     "text": [
      "@VirginAmerica What @dhepburn said.\n",
      "@VirginAmerica plus you've added commercials to the experience... tacky.\n",
      "@VirginAmerica I didn't today... Must mean I need to take another trip!\n",
      "@VirginAmerica it's really aggressive to blast obnoxious \"entertainment\" in your guests' faces &amp; they have little recourse\n",
      "@VirginAmerica and it's a really big bad thing about it\n"
     ]
    }
   ],
   "source": [
    "for i in np.arange(0,5):\n",
    "  print(tweets_text[\"text\"][i])"
   ]
  },
  {
   "cell_type": "markdown",
   "metadata": {
    "id": "CSrimaIMw6vk"
   },
   "source": [
    "<font size=\"5\">Decoding Html, because &amp; is an encoded html character</font>"
   ]
  },
  {
   "cell_type": "code",
   "execution_count": 17,
   "metadata": {
    "id": "mLQxWPinpGMA"
   },
   "outputs": [],
   "source": [
    "import html\n",
    "\n",
    "def decode_html_column(column_values):\n",
    "  start_timer('decode_html_column')\n",
    "\n",
    "  column_copy = column_values.loc[:]\n",
    "\n",
    "  for i in column_values.index:\n",
    "    column_copy[i] = html.unescape(column_copy[i])\n",
    "  \n",
    "  end_timer('decode_html_column')\n",
    "  return column_copy"
   ]
  },
  {
   "cell_type": "code",
   "execution_count": 18,
   "metadata": {
    "colab": {
     "base_uri": "https://localhost:8080/"
    },
    "id": "qRFS5-ozvZqY",
    "outputId": "8c488bfe-1448-4421-f3a8-5156f3fafa65"
   },
   "outputs": [
    {
     "name": "stdout",
     "output_type": "stream",
     "text": [
      "decode_html_column time: 0.16469407081604004 seconds \n",
      "\n",
      "@VirginAmerica What @dhepburn said.\n",
      "@VirginAmerica plus you've added commercials to the experience... tacky.\n",
      "@VirginAmerica I didn't today... Must mean I need to take another trip!\n",
      "@VirginAmerica it's really aggressive to blast obnoxious \"entertainment\" in your guests' faces & they have little recourse\n",
      "@VirginAmerica and it's a really big bad thing about it\n"
     ]
    }
   ],
   "source": [
    "tweets_text[\"text\"] = decode_html_column(tweets_text[\"text\"])\n",
    "\n",
    "for i in np.arange(0,5):\n",
    "  print(tweets_text.text[i])"
   ]
  },
  {
   "cell_type": "markdown",
   "metadata": {
    "id": "jx4bJQhQx-mD"
   },
   "source": [
    "<font size=\"5\">To Lowercase</font>"
   ]
  },
  {
   "cell_type": "code",
   "execution_count": 19,
   "metadata": {
    "colab": {
     "base_uri": "https://localhost:8080/"
    },
    "id": "uS8qXR9Cx-HB",
    "outputId": "38f8e057-191a-4b28-d6fc-339f63704348"
   },
   "outputs": [
    {
     "name": "stdout",
     "output_type": "stream",
     "text": [
      "@virginamerica what @dhepburn said.\n",
      "@virginamerica plus you've added commercials to the experience... tacky.\n",
      "@virginamerica i didn't today... must mean i need to take another trip!\n",
      "@virginamerica it's really aggressive to blast obnoxious \"entertainment\" in your guests' faces & they have little recourse\n",
      "@virginamerica and it's a really big bad thing about it\n"
     ]
    }
   ],
   "source": [
    "tweets_text[\"text\"] = tweets_text[\"text\"].str.lower()\n",
    "\n",
    "for i in np.arange(0,5):\n",
    "  print(tweets_text.text[i])"
   ]
  },
  {
   "cell_type": "markdown",
   "metadata": {
    "id": "3azFWJ82xRNL"
   },
   "source": [
    "<font size=\"5\">Removing html from the text</font>"
   ]
  },
  {
   "cell_type": "code",
   "execution_count": 20,
   "metadata": {
    "id": "flBD5GH4pnI1"
   },
   "outputs": [],
   "source": [
    "from bs4 import BeautifulSoup\n",
    "\n",
    "def remove_html_tags(column_values):\n",
    "  start_timer('remove_html_tags')\n",
    "\n",
    "  column_copy = column_values.loc[:]\n",
    "\n",
    "  for i in column_values.index:\n",
    "    soup = BeautifulSoup(column_copy[i], \"html.parser\")\n",
    "    column_copy[i] = soup.get_text()\n",
    "  \n",
    "  end_timer('remove_html_tags')\n",
    "  return column_copy"
   ]
  },
  {
   "cell_type": "code",
   "execution_count": 21,
   "metadata": {
    "colab": {
     "base_uri": "https://localhost:8080/"
    },
    "id": "hIU74YI6wbVp",
    "outputId": "eb528908-09fc-49d6-9166-be6fe6338380"
   },
   "outputs": [
    {
     "name": "stdout",
     "output_type": "stream",
     "text": [
      "remove_html_tags time: 1.2301616668701172 seconds \n",
      "\n",
      "@virginamerica what @dhepburn said.\n",
      "@virginamerica plus you've added commercials to the experience... tacky.\n",
      "@virginamerica i didn't today... must mean i need to take another trip!\n",
      "@virginamerica it's really aggressive to blast obnoxious \"entertainment\" in your guests' faces & they have little recourse\n",
      "@virginamerica and it's a really big bad thing about it\n"
     ]
    }
   ],
   "source": [
    "tweets_text[\"text\"] = remove_html_tags(tweets_text[\"text\"])\n",
    "\n",
    "for i in np.arange(0,5):\n",
    "  print(tweets_text.text[i])"
   ]
  },
  {
   "cell_type": "markdown",
   "metadata": {
    "id": "ZQLYvtO_xX2r"
   },
   "source": [
    "<font size=\"5\">Remove accented characters</font>"
   ]
  },
  {
   "cell_type": "code",
   "execution_count": 22,
   "metadata": {
    "id": "QCik5tFewlZl"
   },
   "outputs": [],
   "source": [
    "import unicodedata\n",
    "\n",
    "def remove_accents(column_values):\n",
    "  start_timer('remove_accents')\n",
    "\n",
    "  column_copy = column_values.loc[:]\n",
    "\n",
    "  for i in column_values.index:\n",
    "    column_copy[i] = unicodedata.normalize('NFKD', column_copy[i]).encode('ascii', 'ignore').decode('utf-8', 'ignore')\n",
    "  \n",
    "  end_timer('remove_accents')\n",
    "  return column_copy"
   ]
  },
  {
   "cell_type": "code",
   "execution_count": 23,
   "metadata": {
    "colab": {
     "base_uri": "https://localhost:8080/"
    },
    "id": "QMUn95S1x0PY",
    "outputId": "71430808-cc31-421a-aab1-25016b484de8"
   },
   "outputs": [
    {
     "name": "stdout",
     "output_type": "stream",
     "text": [
      "remove_accents time: 0.17648983001708984 seconds \n",
      "\n",
      "@virginamerica what @dhepburn said.\n",
      "@virginamerica plus you've added commercials to the experience... tacky.\n",
      "@virginamerica i didn't today... must mean i need to take another trip!\n",
      "@virginamerica it's really aggressive to blast obnoxious \"entertainment\" in your guests' faces & they have little recourse\n",
      "@virginamerica and it's a really big bad thing about it\n"
     ]
    }
   ],
   "source": [
    "tweets_text[\"text\"] = remove_accents(tweets_text[\"text\"])\n",
    "\n",
    "for i in np.arange(0,5):\n",
    "  print(tweets_text.text[i])"
   ]
  },
  {
   "cell_type": "markdown",
   "metadata": {
    "id": "xnVsKK0MyuMj"
   },
   "source": [
    "<font size=\"5\">Using Regular Expressions to clear the text from numbers, special characters and punctuations.</font>"
   ]
  },
  {
   "cell_type": "code",
   "execution_count": 24,
   "metadata": {
    "id": "9QkSOIkjx5Z6"
   },
   "outputs": [],
   "source": [
    "import re\n",
    "\n",
    "def remove_special_characters_column(column_values, remove_digits=False):\n",
    "  start_timer('remove_special_characters')\n",
    "\n",
    "  column_copy = column_values.loc[:]\n",
    "  pattern = r'[^\\w\\d\\s]' if not remove_digits else r'[^\\w\\s]'\n",
    "\n",
    "  for i in column_values.index:\n",
    "    column_copy[i] = re.sub(pattern, '', column_copy[i])\n",
    "  \n",
    "  end_timer('remove_special_characters')\n",
    "  return column_copy\n",
    "\n",
    "\n",
    "def remove_special_characters_array(column_values, remove_digits=False):\n",
    "  start_timer('remove_special_characters')\n",
    "\n",
    "  column_copy = column_values\n",
    "  pattern = r'[^\\w\\d\\s]' if not remove_digits else r'[^\\w\\s]'\n",
    "\n",
    "  for i, s in enumerate(column_values):\n",
    "     column_copy[i] = re.sub(pattern, '', s)\n",
    "  \n",
    "  end_timer('remove_special_characters')\n",
    "  return column_copy"
   ]
  },
  {
   "cell_type": "code",
   "execution_count": 25,
   "metadata": {
    "colab": {
     "base_uri": "https://localhost:8080/"
    },
    "id": "tWGYcJ5E3Bi7",
    "outputId": "136eef5e-04b7-48a4-cdb7-19c24e6e756a"
   },
   "outputs": [
    {
     "name": "stdout",
     "output_type": "stream",
     "text": [
      "remove_special_characters time: 0.22701478004455566 seconds \n",
      "\n",
      "virginamerica what dhepburn said\n",
      "virginamerica plus youve added commercials to the experience tacky\n",
      "virginamerica i didnt today must mean i need to take another trip\n",
      "virginamerica its really aggressive to blast obnoxious entertainment in your guests faces  they have little recourse\n",
      "virginamerica and its a really big bad thing about it\n"
     ]
    }
   ],
   "source": [
    "tweets_text[\"text\"] = remove_special_characters_column(tweets_text[\"text\"], True)\n",
    "\n",
    "for i in np.arange(0,5):\n",
    "  print(tweets_text.text[i])"
   ]
  },
  {
   "cell_type": "markdown",
   "metadata": {
    "id": "zaq5pF7l4McI"
   },
   "source": [
    "<font size=\"5\">Tokenization</font>"
   ]
  },
  {
   "cell_type": "code",
   "execution_count": 26,
   "metadata": {
    "id": "w2QJvv7_3FD_"
   },
   "outputs": [],
   "source": [
    "from nltk.tokenize.toktok import ToktokTokenizer\n",
    "\n",
    "tokenizer=ToktokTokenizer()\n",
    "\n",
    "def tokenize_columns(column_values):\n",
    "  start_timer('tokenize_columns')\n",
    "\n",
    "  column_copy = column_values.loc[:]\n",
    "\n",
    "  for i in column_values.index:\n",
    "    column_copy[i] = tokenizer.tokenize(column_copy[i])\n",
    "  \n",
    "  end_timer('tokenize_columns')\n",
    "  return column_copy"
   ]
  },
  {
   "cell_type": "code",
   "execution_count": 27,
   "metadata": {
    "colab": {
     "base_uri": "https://localhost:8080/"
    },
    "id": "44RK8Lb6vcaS",
    "outputId": "165b64bd-6410-4be3-df33-af5d0789d0ac"
   },
   "outputs": [
    {
     "name": "stdout",
     "output_type": "stream",
     "text": [
      "tokenize_columns time: 1.069549560546875 seconds \n",
      "\n",
      "['virginamerica', 'what', 'dhepburn', 'said']\n",
      "['virginamerica', 'plus', 'youve', 'added', 'commercials', 'to', 'the', 'experience', 'tacky']\n",
      "['virginamerica', 'i', 'didnt', 'today', 'must', 'mean', 'i', 'need', 'to', 'take', 'another', 'trip']\n",
      "['virginamerica', 'its', 'really', 'aggressive', 'to', 'blast', 'obnoxious', 'entertainment', 'in', 'your', 'guests', 'faces', 'they', 'have', 'little', 'recourse']\n",
      "['virginamerica', 'and', 'its', 'a', 'really', 'big', 'bad', 'thing', 'about', 'it']\n"
     ]
    }
   ],
   "source": [
    "tweets_text[\"tokens\"] = tokenize_columns(tweets_text[\"text\"])\n",
    "\n",
    "for i in np.arange(0,5):\n",
    "  print(tweets_text.tokens[i])"
   ]
  },
  {
   "cell_type": "markdown",
   "metadata": {
    "id": "98n5HfYDw8FU"
   },
   "source": [
    "<font size=\"5\">Checking and clearing the company name</font>"
   ]
  },
  {
   "cell_type": "code",
   "execution_count": 28,
   "metadata": {
    "colab": {
     "base_uri": "https://localhost:8080/"
    },
    "id": "DUX5u_jOw8dD",
    "outputId": "4188a795-758b-4386-d35b-3502e4f96812"
   },
   "outputs": [
    {
     "name": "stdout",
     "output_type": "stream",
     "text": [
      "['united', 'how', 'can', 'you', 'not', 'put', 'my', 'bag', 'on', 'plane', 'to', 'seattle', 'flight', '1212', 'waiting', 'in', 'line', 'to', 'talk', 'to', 'someone', 'about', 'my', 'bag', 'status', 'should', 'matter']\n",
      "['united', 'wifi', 'wasnt', 'working', 'onboardalerted', 'attendant', 're', 'socketyou', 'sent', 'me', 'to', 'a', 'hotel', 'for', '24', 'hours', 'with', '7', 'vouchersno', 'wifi', 'at', 'hotel']\n",
      "['united', 'is', 'a', 'money', 'sucking', 'airline', 'with', 'terrible', 'terrible', 'customer', 'service']\n",
      "['united', 'so', 'you', 'are', 'saying', 'that', 'customer', 'care', 'does', 'not', 'report', 'to', 'anyone', 'their', 'response', 'is', 'humiliating', 'for', 'a', 'company', 'that', 'serves', 'the', 'public']\n",
      "['southwestair', 'neveryamind', 'i', 'paid', '450', 'for', 'a', 'flight', '250', 'for', 'a', 'new', 'bag', 'is', 'easy', 'for', 'business', 'class', 'customers', 'right', 'httptcovn3jjia53o']\n",
      "['southwestair', 'i', 'paid', 'for', 'inflight', 'wifi', 'only', 'for', 'it', 'not', 'to', 'work', 'download', 'speed', 'was', '021mbps', 'i', 'ended', 'up', 'watching', 'the', 'free', 'tv', 'instead']\n",
      "['jetblue', 'we', 'had', 'some', 'major', 'planewide', 'directtv', 'issues', 'yesterday', 'system', 'kept', 'being', 'reset', 'by', 'crew', 'member']\n",
      "['jetblue', 'do', 'you', 'have', 'any', 'afternoon', 'flights', 'going', 'from', 'bqn', 'to', 'jfk', 'i', 'only', 'seem', 'to', 'find', 'early', 'morning', 'flights']\n",
      "['usairways', 'sadly', 'im', 'currently', 'booked', 'on', 'one', 'of', 'your', 'flights', 'tomorrow', 'that', 'i', 'will', 'be', 'changing', 'if', 'i', 'can']\n",
      "['usairways', 'waiting', 'all', 'day', 'at', 'atl', 'since', 'flight', 'this', 'am', 'cancelled', 'flightled', '1', 'standby', 'told', 'no', 'seats', 'and', 'group', 'of', '15', 'shows', 'up', 'late', 'flight', 'and', 'gets', 'on', 'to', 'phl']\n",
      "['usairways', '3935', 'sitting', 'on', 'a', 'freezing', 'bus', 'because', 'nobody', 'is', 'in', 'the', 'plane', 'what', 'is', 'up']\n",
      "['americanair', 'you', 'cancelled', 'flight', 'my', 'flight', 'and', 'theres', 'no', 'way', 'to', 'rebook', 'on', 'the', 'website', 'or', 'app', 'i', 'have', 'to', 'wait', '35', 'minutes', 'on', 'hold', 'fail', 'cc', 'delta']\n",
      "['americanair', 'here', 'is', 'the', 'ticket', 'they', 'gave', 'me', 'after', 'lying', 'raising', 'their', 'voice', 'with', 'no', 'explanation', 'on', 'what', 'happened', 'httptco31cfhtk60r']\n"
     ]
    }
   ],
   "source": [
    "#Confirming that the first position is a dispensable word\n",
    "for i in np.arange(1000, 14000, 1000):\n",
    "  print(tweets_text.text[i])"
   ]
  },
  {
   "cell_type": "code",
   "execution_count": 29,
   "metadata": {
    "id": "vXaGmR8tz-c7"
   },
   "outputs": [],
   "source": [
    "def remove_position(column_values, position):\n",
    "  start_timer('remove_position')\n",
    "\n",
    "  column_copy = column_values.loc[:]\n",
    "\n",
    "  for i in column_values.index:\n",
    "    column_copy[i] = column_copy[i][1:]\n",
    "  \n",
    "  end_timer('remove_position')\n",
    "  return column_copy"
   ]
  },
  {
   "cell_type": "code",
   "execution_count": 30,
   "metadata": {
    "colab": {
     "base_uri": "https://localhost:8080/"
    },
    "id": "1i-yn436xSq8",
    "outputId": "b5705184-525d-41e6-8f62-06fc365910e6"
   },
   "outputs": [
    {
     "name": "stdout",
     "output_type": "stream",
     "text": [
      "remove_position time: 0.1741032600402832 seconds \n",
      "\n",
      "['what', 'dhepburn', 'said']\n",
      "['plus', 'youve', 'added', 'commercials', 'to', 'the', 'experience', 'tacky']\n",
      "['i', 'didnt', 'today', 'must', 'mean', 'i', 'need', 'to', 'take', 'another', 'trip']\n",
      "['its', 'really', 'aggressive', 'to', 'blast', 'obnoxious', 'entertainment', 'in', 'your', 'guests', 'faces', 'they', 'have', 'little', 'recourse']\n",
      "['and', 'its', 'a', 'really', 'big', 'bad', 'thing', 'about', 'it']\n"
     ]
    }
   ],
   "source": [
    "tweets_text[\"tokens\"] = remove_position(tweets_text[\"tokens\"], 0)\n",
    "\n",
    "for i in np.arange(0,5):\n",
    "  print(tweets_text.tokens[i])"
   ]
  },
  {
   "cell_type": "markdown",
   "metadata": {
    "id": "9RViblUf3unt"
   },
   "source": [
    "<font size=\"5\">Stopwords Removal</font>"
   ]
  },
  {
   "cell_type": "code",
   "execution_count": 31,
   "metadata": {
    "colab": {
     "base_uri": "https://localhost:8080/"
    },
    "id": "KVn3Takn3u9T",
    "outputId": "aec87c70-0033-449c-c232-30f7b8046dd2"
   },
   "outputs": [
    {
     "name": "stdout",
     "output_type": "stream",
     "text": [
      "remove_special_characters time: 0.0003056526184082031 seconds \n",
      "\n"
     ]
    }
   ],
   "source": [
    "#I decided to clear the stop words because of this kind of mess, it's not making sense to me at least\n",
    "\n",
    "#virginamerica what dhepburn said\n",
    "#virginamerica plu youv ad commerci to the experience tacky\n",
    "#virginamerica i didnt today must mean i need to take anoth trip\n",
    "#virginamerica it realli aggress to blast obnoxi entertainment in your guests face  they have littl recours\n",
    "#virginamerica and it a realli big bad thing about it\n",
    "\n",
    "#import nltk\n",
    "#nltk.download('stopwords')\n",
    "\n",
    "stopword_list = nltk.corpus.stopwords.words('english')\n",
    "stopword_list.remove('no')\n",
    "stopword_list.remove('not')\n",
    "\n",
    "#because of encoding issues, I need to make some adjustments\n",
    "stopword_list = remove_special_characters_array(stopword_list)\n",
    "\n",
    "def stopwords_removal(column_values):\n",
    "  start_timer('stopwords_removal')\n",
    "\n",
    "  column_copy = column_values.loc[:]\n",
    "\n",
    "  for i in column_values.index:\n",
    "    column_copy[i] = [token for token in column_copy[i] if token not in stopword_list]\n",
    "  \n",
    "  end_timer('stopwords_removal')\n",
    "  return column_copy"
   ]
  },
  {
   "cell_type": "code",
   "execution_count": 32,
   "metadata": {
    "colab": {
     "base_uri": "https://localhost:8080/"
    },
    "id": "3yOENgnP57bT",
    "outputId": "af6da9e9-cb02-492c-9d46-e40e7657120e"
   },
   "outputs": [
    {
     "name": "stdout",
     "output_type": "stream",
     "text": [
      "stopwords_removal time: 0.5882875919342041 seconds \n",
      "\n",
      "['dhepburn', 'said']\n",
      "['plus', 'added', 'commercials', 'experience', 'tacky']\n",
      "['today', 'must', 'mean', 'need', 'take', 'another', 'trip']\n",
      "['really', 'aggressive', 'blast', 'obnoxious', 'entertainment', 'guests', 'faces', 'little', 'recourse']\n",
      "['really', 'big', 'bad', 'thing']\n"
     ]
    }
   ],
   "source": [
    "tweets_text[\"tokens\"] = stopwords_removal(tweets_text[\"tokens\"])\n",
    "\n",
    "for i in np.arange(0,5):\n",
    "  print(tweets_text.tokens[i])"
   ]
  },
  {
   "cell_type": "markdown",
   "metadata": {
    "id": "wIdU75-V7K2-"
   },
   "source": [
    "<font size=\"5\">Joining tokens</font>"
   ]
  },
  {
   "cell_type": "code",
   "execution_count": 33,
   "metadata": {
    "id": "ONZds2mb7LKg"
   },
   "outputs": [],
   "source": [
    "def join_tokens(column_values):\n",
    "  start_timer('join_tokens')\n",
    "\n",
    "  column_copy = column_values.loc[:]\n",
    "\n",
    "  for i in column_values.index:\n",
    "    column_copy[i] = ' '.join(str(x) for x in column_copy[i])\n",
    "  \n",
    "  end_timer('join_tokens')\n",
    "  return column_copy"
   ]
  },
  {
   "cell_type": "code",
   "execution_count": 34,
   "metadata": {
    "colab": {
     "base_uri": "https://localhost:8080/"
    },
    "id": "vQfncSy57Lde",
    "outputId": "a4948ae6-4e86-45b6-dfef-5a6b3861e6f9"
   },
   "outputs": [
    {
     "name": "stdout",
     "output_type": "stream",
     "text": [
      "join_tokens time: 0.22347259521484375 seconds \n",
      "\n",
      "dhepburn said\n",
      "plus added commercials experience tacky\n",
      "today must mean need take another trip\n",
      "really aggressive blast obnoxious entertainment guests faces little recourse\n",
      "really big bad thing\n"
     ]
    }
   ],
   "source": [
    "tweets_text[\"text\"] = join_tokens(tweets_text[\"tokens\"])\n",
    "\n",
    "for i in np.arange(0,5):\n",
    "  print(tweets_text.text[i])"
   ]
  },
  {
   "cell_type": "markdown",
   "metadata": {
    "id": "3a4EthUvwOEz"
   },
   "source": [
    "<font size=\"5\">Stemming</font>"
   ]
  },
  {
   "cell_type": "code",
   "execution_count": 35,
   "metadata": {
    "colab": {
     "base_uri": "https://localhost:8080/",
     "height": 53
    },
    "id": "vV73dQulvoMT",
    "outputId": "a0183c00-745d-4f7e-dd89-be6c606d0184"
   },
   "outputs": [
    {
     "data": {
      "application/vnd.google.colaboratory.intrinsic+json": {
       "type": "string"
      },
      "text/plain": [
       "\"\\ndef stemmerize_column(column_values):\\n  start_timer('stemmerize_column')\\n\\n  ps = nltk.porter.PorterStemmer()\\n  column_copy = column_values.loc[:]\\n\\n  for i in column_values.index:\\n    column_copy[i] = ' '.join([ps.stem(word) for word in column_copy[i].split()])\\n  \\n  end_timer('stemmerize_column')\\n  return column_copy\\n\""
      ]
     },
     "execution_count": 35,
     "metadata": {
      "tags": []
     },
     "output_type": "execute_result"
    }
   ],
   "source": [
    "#import nltk\n",
    "'''\n",
    "def stemmerize_column(column_values):\n",
    "  start_timer('stemmerize_column')\n",
    "\n",
    "  ps = nltk.porter.PorterStemmer()\n",
    "  column_copy = column_values.loc[:]\n",
    "\n",
    "  for i in column_values.index:\n",
    "    column_copy[i] = ' '.join([ps.stem(word) for word in column_copy[i].split()])\n",
    "  \n",
    "  end_timer('stemmerize_column')\n",
    "  return column_copy\n",
    "'''"
   ]
  },
  {
   "cell_type": "code",
   "execution_count": 36,
   "metadata": {
    "colab": {
     "base_uri": "https://localhost:8080/",
     "height": 53
    },
    "id": "2hRcDrtxyghF",
    "outputId": "4832d82d-670b-40d0-e2d8-9d8a9e9331ae"
   },
   "outputs": [
    {
     "data": {
      "application/vnd.google.colaboratory.intrinsic+json": {
       "type": "string"
      },
      "text/plain": [
       "'\\nstemmerize_column time: 2.95408296585083 seconds \\n\\ndhepburn said\\nplu ad commerci experi tacki\\ntoday must mean need take anoth trip\\nrealli aggress blast obnoxi entertain guest face littl recours\\nrealli big bad thing\\n'"
      ]
     },
     "execution_count": 36,
     "metadata": {
      "tags": []
     },
     "output_type": "execute_result"
    }
   ],
   "source": [
    "'''\n",
    "tweets_text[\"text\"] = stemmerize_column(tweets_text[\"text\"])\n",
    "\n",
    "for i in np.arange(0,5):\n",
    "  print(tweets_text.text[i])\n",
    "'''\n",
    "\n",
    "#Didn't like the result, so I will change to lemmatization\n",
    "'''\n",
    "stemmerize_column time: 2.95408296585083 seconds \n",
    "\n",
    "dhepburn said\n",
    "plu ad commerci experi tacki\n",
    "today must mean need take anoth trip\n",
    "realli aggress blast obnoxi entertain guest face littl recours\n",
    "realli big bad thing\n",
    "'''"
   ]
  },
  {
   "cell_type": "markdown",
   "metadata": {
    "id": "AnTWYBE2EI4e"
   },
   "source": [
    "<font size=\"5\">Lemmatization</font>"
   ]
  },
  {
   "cell_type": "code",
   "execution_count": 37,
   "metadata": {
    "id": "Pn3eATbyC_Ov"
   },
   "outputs": [],
   "source": [
    "import spacy\n",
    "\n",
    "nlp = spacy.load('en_core_web_sm', parse=True, tag=True, entity=True)\n",
    "\n",
    "def lemmatize_column(column_values):\n",
    "  start_timer('lemmatize_column')\n",
    "\n",
    "  column_copy = column_values.loc[:]\n",
    "\n",
    "  for i in column_values.index:\n",
    "    column_copy[i] = nlp(column_copy[i])\n",
    "    column_copy[i] = ' '.join([word.lemma_ if word.lemma_ != '-PRON-' else word.text for word in column_copy[i]])\n",
    "  \n",
    "  end_timer('lemmatize_column')\n",
    "  return column_copy"
   ]
  },
  {
   "cell_type": "code",
   "execution_count": 38,
   "metadata": {
    "colab": {
     "base_uri": "https://localhost:8080/"
    },
    "id": "EmI7fDmZFhjL",
    "outputId": "2dac94d7-81b3-4a9f-8092-6bad41650b30"
   },
   "outputs": [
    {
     "name": "stdout",
     "output_type": "stream",
     "text": [
      "lemmatize_column time: 147.27978897094727 seconds \n",
      "\n",
      "dhepburn say\n",
      "plus add commercial experience tacky\n",
      "today must mean nee take another trip\n",
      "really aggressive blast obnoxious entertainment guest face little recourse\n",
      "really big bad thing\n"
     ]
    }
   ],
   "source": [
    "tweets_text[\"text\"] = lemmatize_column(tweets_text[\"text\"])\n",
    "\n",
    "for i in np.arange(0,5):\n",
    "  print(tweets_text.text[i])"
   ]
  },
  {
   "cell_type": "code",
   "execution_count": 39,
   "metadata": {
    "colab": {
     "base_uri": "https://localhost:8080/"
    },
    "id": "nMnkn_Q_sPA_",
    "outputId": "0e38158a-5ffe-4bb4-9cf6-395873650207"
   },
   "outputs": [
    {
     "name": "stdout",
     "output_type": "stream",
     "text": [
      "pre_processing time: 152.8591763973236 seconds \n",
      "\n"
     ]
    }
   ],
   "source": [
    "time_pre_processing = end_timer('pre_processing')"
   ]
  },
  {
   "cell_type": "markdown",
   "metadata": {
    "id": "DTmTZRJHryuK"
   },
   "source": [
    "#CountVectorizer model evaluation"
   ]
  },
  {
   "cell_type": "markdown",
   "metadata": {
    "id": "3RGCMdshG3N_"
   },
   "source": [
    "<font size=\"5\">Vectorization without limiting the features</font>"
   ]
  },
  {
   "cell_type": "code",
   "execution_count": 40,
   "metadata": {
    "id": "tKaxHxo65EDv"
   },
   "outputs": [],
   "source": [
    "start_timer('count_vectorization_full')"
   ]
  },
  {
   "cell_type": "code",
   "execution_count": 41,
   "metadata": {
    "id": "0aZID71zF8Qr"
   },
   "outputs": [],
   "source": [
    "from sklearn.feature_extraction.text import CountVectorizer\n",
    "\n",
    "cv_vectorizer_full = CountVectorizer()\n",
    "cv_features_full = cv_vectorizer_full.fit_transform(tweets_text['text'])\n",
    "\n",
    "cv_features_full = cv_features_full.toarray()   "
   ]
  },
  {
   "cell_type": "code",
   "execution_count": 42,
   "metadata": {
    "colab": {
     "base_uri": "https://localhost:8080/"
    },
    "id": "nDGHZJ2q4_mK",
    "outputId": "8d23eff9-e9a6-473b-fd2f-8ed92af31454"
   },
   "outputs": [
    {
     "data": {
      "text/plain": [
       "(14640, 14858)"
      ]
     },
     "execution_count": 42,
     "metadata": {
      "tags": []
     },
     "output_type": "execute_result"
    }
   ],
   "source": [
    "cv_features_full.shape"
   ]
  },
  {
   "cell_type": "code",
   "execution_count": 43,
   "metadata": {
    "id": "jRD6izcr5A6O"
   },
   "outputs": [],
   "source": [
    "from sklearn.model_selection import train_test_split\n",
    "\n",
    "cv_X_train_full, cv_X_test_full, cv_y_train_full, cv_y_test_full = train_test_split(cv_features_full, tweets_text.airline_sentiment, test_size=0.3, random_state=13)"
   ]
  },
  {
   "cell_type": "code",
   "execution_count": 44,
   "metadata": {
    "colab": {
     "base_uri": "https://localhost:8080/"
    },
    "id": "1Z-N_KeZ_VKP",
    "outputId": "8716f483-da3e-4257-e93c-5fb3b84f01c4"
   },
   "outputs": [
    {
     "name": "stdout",
     "output_type": "stream",
     "text": [
      "RandomForestClassifier(bootstrap=True, ccp_alpha=0.0, class_weight=None,\n",
      "                       criterion='gini', max_depth=None, max_features='auto',\n",
      "                       max_leaf_nodes=None, max_samples=None,\n",
      "                       min_impurity_decrease=0.0, min_impurity_split=None,\n",
      "                       min_samples_leaf=1, min_samples_split=2,\n",
      "                       min_weight_fraction_leaf=0.0, n_estimators=10, n_jobs=4,\n",
      "                       oob_score=False, random_state=None, verbose=0,\n",
      "                       warm_start=False)\n",
      "0.7379098360655737\n"
     ]
    }
   ],
   "source": [
    "from sklearn.ensemble import RandomForestClassifier\n",
    "from sklearn.model_selection import cross_val_score\n",
    "\n",
    "cv_forest_full = RandomForestClassifier(n_estimators=10, n_jobs=4)\n",
    "\n",
    "cv_forest_full = cv_forest_full.fit(cv_X_train_full, cv_y_train_full)\n",
    "\n",
    "print(cv_forest_full)\n",
    "mean_count_vectorization_full = np.mean(cross_val_score(cv_forest_full, cv_features_full, tweets_text.airline_sentiment, cv=10))\n",
    "print(mean_count_vectorization_full)"
   ]
  },
  {
   "cell_type": "code",
   "execution_count": 45,
   "metadata": {
    "colab": {
     "base_uri": "https://localhost:8080/",
     "height": 501
    },
    "id": "JfZJqn3B_yav",
    "outputId": "75614a82-52d3-43a2-c4f6-26842eded554"
   },
   "outputs": [
    {
     "data": {
      "text/plain": [
       "<matplotlib.axes._subplots.AxesSubplot at 0x7fb72176bac8>"
      ]
     },
     "execution_count": 45,
     "metadata": {
      "tags": []
     },
     "output_type": "execute_result"
    },
    {
     "data": {
      "image/png": "[encoded data removed]",
      "text/plain": [
       "<Figure size 864x576 with 2 Axes>"
      ]
     },
     "metadata": {
      "needs_background": "light",
      "tags": []
     },
     "output_type": "display_data"
    }
   ],
   "source": [
    "cv_result_full = cv_forest_full.predict(cv_X_test_full)\n",
    "\n",
    "import matplotlib.pyplot as plt\n",
    "import seaborn as sns\n",
    "from sklearn.metrics import confusion_matrix\n",
    "\n",
    "cv_conf_mat_full = confusion_matrix(cv_y_test_full, cv_result_full)\n",
    "\n",
    "columns = [\"negative\", \"neutral\", \"positive\"]\n",
    "df_cm = pd.DataFrame(cv_conf_mat_full, index = [i for i in columns], columns = [i for i in columns])\n",
    "\n",
    "plt.figure(figsize = (12,8))\n",
    "sns.heatmap(df_cm, annot=True, fmt='g')"
   ]
  },
  {
   "cell_type": "code",
   "execution_count": 46,
   "metadata": {
    "colab": {
     "base_uri": "https://localhost:8080/"
    },
    "id": "-QMcgkQxAedf",
    "outputId": "f4b127da-5fdc-46dc-e56d-0eb7f71577ef"
   },
   "outputs": [
    {
     "name": "stdout",
     "output_type": "stream",
     "text": [
      "count_vectorization_full time: 323.29976177215576 seconds \n",
      "\n"
     ]
    }
   ],
   "source": [
    "time_count_vectorization_full = end_timer('count_vectorization_full')"
   ]
  },
  {
   "cell_type": "markdown",
   "metadata": {
    "id": "Loxb5eqlG1vS"
   },
   "source": [
    "<font size=\"5\">Vectorization limiting the features</font>"
   ]
  },
  {
   "cell_type": "code",
   "execution_count": 47,
   "metadata": {
    "id": "JqE4TKGQG0mf"
   },
   "outputs": [],
   "source": [
    "start_timer('count_vectorization_limited')"
   ]
  },
  {
   "cell_type": "code",
   "execution_count": 48,
   "metadata": {
    "id": "WO8IomOOHRMo"
   },
   "outputs": [],
   "source": [
    "#from sklearn.feature_extraction.text import CountVectorizer\n",
    "\n",
    "cv_vectorizer_limited = CountVectorizer(max_features=2000)\n",
    "cv_features_limited = cv_vectorizer_limited.fit_transform(tweets_text['text'])\n",
    "\n",
    "cv_features_limited = cv_features_limited.toarray()   "
   ]
  },
  {
   "cell_type": "code",
   "execution_count": 49,
   "metadata": {
    "colab": {
     "base_uri": "https://localhost:8080/"
    },
    "id": "leGZ2xSfI0P3",
    "outputId": "b5c323f0-b990-4ed7-b366-dd7288ca7e76"
   },
   "outputs": [
    {
     "data": {
      "text/plain": [
       "(14640, 2000)"
      ]
     },
     "execution_count": 49,
     "metadata": {
      "tags": []
     },
     "output_type": "execute_result"
    }
   ],
   "source": [
    "cv_features_limited.shape"
   ]
  },
  {
   "cell_type": "code",
   "execution_count": 50,
   "metadata": {
    "id": "w-gCAaT8I2ku"
   },
   "outputs": [],
   "source": [
    "#from sklearn.model_selection import train_test_split\n",
    "\n",
    "cv_X_train_limited, cv_X_test_limited, cv_y_train_limited, cv_y_test_limited = train_test_split(cv_features_limited, tweets_text.airline_sentiment, test_size=0.3, random_state=13)"
   ]
  },
  {
   "cell_type": "code",
   "execution_count": 51,
   "metadata": {
    "colab": {
     "base_uri": "https://localhost:8080/"
    },
    "id": "1hu1PR0kI2qt",
    "outputId": "d24cc3e9-2808-4fa0-81bc-500cebe0d175"
   },
   "outputs": [
    {
     "name": "stdout",
     "output_type": "stream",
     "text": [
      "RandomForestClassifier(bootstrap=True, ccp_alpha=0.0, class_weight=None,\n",
      "                       criterion='gini', max_depth=None, max_features='auto',\n",
      "                       max_leaf_nodes=None, max_samples=None,\n",
      "                       min_impurity_decrease=0.0, min_impurity_split=None,\n",
      "                       min_samples_leaf=1, min_samples_split=2,\n",
      "                       min_weight_fraction_leaf=0.0, n_estimators=10, n_jobs=4,\n",
      "                       oob_score=False, random_state=None, verbose=0,\n",
      "                       warm_start=False)\n",
      "0.7368169398907104\n"
     ]
    }
   ],
   "source": [
    "#from sklearn.ensemble import RandomForestClassifier\n",
    "#from sklearn.model_selection import cross_val_score\n",
    "\n",
    "cv_forest_limited = RandomForestClassifier(n_estimators=10, n_jobs=4)\n",
    "\n",
    "cv_forest_limited = cv_forest_limited.fit(cv_X_train_limited, cv_y_train_limited)\n",
    "\n",
    "print(cv_forest_limited)\n",
    "mean_count_vectorization_limited = np.mean(cross_val_score(cv_forest_limited, cv_features_limited, tweets_text.airline_sentiment, cv=10))\n",
    "print(mean_count_vectorization_limited)"
   ]
  },
  {
   "cell_type": "code",
   "execution_count": 52,
   "metadata": {
    "colab": {
     "base_uri": "https://localhost:8080/",
     "height": 501
    },
    "id": "ZK89rsypK2x_",
    "outputId": "a319424b-7e09-4845-9b37-a909f75290fb"
   },
   "outputs": [
    {
     "data": {
      "text/plain": [
       "<matplotlib.axes._subplots.AxesSubplot at 0x7fb721771ef0>"
      ]
     },
     "execution_count": 52,
     "metadata": {
      "tags": []
     },
     "output_type": "execute_result"
    },
    {
     "data": {
      "image/png": "[encoded data removed]",
      "text/plain": [
       "<Figure size 864x576 with 2 Axes>"
      ]
     },
     "metadata": {
      "needs_background": "light",
      "tags": []
     },
     "output_type": "display_data"
    }
   ],
   "source": [
    "cv_result_limited = cv_forest_limited.predict(cv_X_test_limited)\n",
    "\n",
    "#import matplotlib.pyplot as plt\n",
    "#import seaborn as sns\n",
    "#from sklearn.metrics import confusion_matrix\n",
    "\n",
    "cv_conf_mat_limited = confusion_matrix(cv_y_test_limited, cv_result_limited)\n",
    "\n",
    "df_cm = pd.DataFrame(cv_conf_mat_limited, index = [i for i in columns], columns = [i for i in columns])\n",
    "\n",
    "plt.figure(figsize = (12,8))\n",
    "sns.heatmap(df_cm, annot=True, fmt='g')"
   ]
  },
  {
   "cell_type": "code",
   "execution_count": 53,
   "metadata": {
    "colab": {
     "base_uri": "https://localhost:8080/"
    },
    "id": "z7B7JpSaHPHE",
    "outputId": "69f1ee1d-6c8e-4876-c01c-1d611423e769"
   },
   "outputs": [
    {
     "name": "stdout",
     "output_type": "stream",
     "text": [
      "count_vectorization_limited time: 55.85350298881531 seconds \n",
      "\n"
     ]
    }
   ],
   "source": [
    "time_count_vectorization_limited = end_timer('count_vectorization_limited')"
   ]
  },
  {
   "cell_type": "markdown",
   "metadata": {
    "id": "-xpe4VDKC1yR"
   },
   "source": [
    "#TfidfVectorizer model evaluation"
   ]
  },
  {
   "cell_type": "markdown",
   "metadata": {
    "id": "Gvk5ZNieXFoi"
   },
   "source": [
    "<font size=\"5\">Vectorization without limiting the features</font>"
   ]
  },
  {
   "cell_type": "code",
   "execution_count": 54,
   "metadata": {
    "id": "YcP4xie8DDi1"
   },
   "outputs": [],
   "source": [
    "start_timer('Tfidf_vectorization_full')"
   ]
  },
  {
   "cell_type": "code",
   "execution_count": 55,
   "metadata": {
    "colab": {
     "base_uri": "https://localhost:8080/"
    },
    "id": "r_C1mVBgDhwu",
    "outputId": "8acab676-0412-42cb-8348-2a005af14be1"
   },
   "outputs": [
    {
     "data": {
      "text/plain": [
       "(14640, 14858)"
      ]
     },
     "execution_count": 55,
     "metadata": {
      "tags": []
     },
     "output_type": "execute_result"
    }
   ],
   "source": [
    "from sklearn.feature_extraction.text import TfidfVectorizer\n",
    "\n",
    "tf_vectorizer_full = TfidfVectorizer()\n",
    "tf_features_full = tf_vectorizer_full.fit_transform(tweets_text['text'])\n",
    "\n",
    "tf_features_full = tf_features_full.toarray()\n",
    "\n",
    "tf_features_full.shape"
   ]
  },
  {
   "cell_type": "code",
   "execution_count": 56,
   "metadata": {
    "id": "YDIRKMguUVL2"
   },
   "outputs": [],
   "source": [
    "#from sklearn.model_selection import train_test_split\n",
    "\n",
    "tf_X_train_full, tf_X_test_full, tf_y_train_full, tf_y_test_full = train_test_split(tf_features_full, tweets_text.airline_sentiment, test_size=0.3, random_state=13)"
   ]
  },
  {
   "cell_type": "code",
   "execution_count": 57,
   "metadata": {
    "colab": {
     "base_uri": "https://localhost:8080/"
    },
    "id": "Y6YAA7xpTn4u",
    "outputId": "8981f570-d483-4095-d313-3a7aab214be7"
   },
   "outputs": [
    {
     "name": "stdout",
     "output_type": "stream",
     "text": [
      "RandomForestClassifier(bootstrap=True, ccp_alpha=0.0, class_weight=None,\n",
      "                       criterion='gini', max_depth=None, max_features='auto',\n",
      "                       max_leaf_nodes=None, max_samples=None,\n",
      "                       min_impurity_decrease=0.0, min_impurity_split=None,\n",
      "                       min_samples_leaf=1, min_samples_split=2,\n",
      "                       min_weight_fraction_leaf=0.0, n_estimators=10, n_jobs=4,\n",
      "                       oob_score=False, random_state=None, verbose=0,\n",
      "                       warm_start=False)\n",
      "0.7361338797814208\n"
     ]
    }
   ],
   "source": [
    "#from sklearn.ensemble import RandomForestClassifier\n",
    "#from sklearn.model_selection import cross_val_score\n",
    "\n",
    "import numpy as np\n",
    "\n",
    "tf_forest_full = RandomForestClassifier(n_estimators=10, n_jobs=4)\n",
    "\n",
    "tf_forest_full = tf_forest_full.fit(tf_X_train_full, tf_y_train_full)\n",
    "\n",
    "print(tf_forest_full)\n",
    "mean_Tfidf_vectorization_full = np.mean(cross_val_score(tf_forest_full, tf_features_full, tweets_text.airline_sentiment, cv=10))\n",
    "print(mean_Tfidf_vectorization_full)"
   ]
  },
  {
   "cell_type": "code",
   "execution_count": 58,
   "metadata": {
    "colab": {
     "base_uri": "https://localhost:8080/",
     "height": 446
    },
    "id": "lrI7dh7UToBs",
    "outputId": "4bdbc245-48f2-4e15-bcee-895a3ea075bf"
   },
   "outputs": [
    {
     "data": {
      "text/plain": [
       "<matplotlib.axes._subplots.AxesSubplot at 0x7fb71e262c50>"
      ]
     },
     "execution_count": 58,
     "metadata": {
      "tags": []
     },
     "output_type": "execute_result"
    },
    {
     "data": {
      "image/png": "[encoded data removed]",
      "text/plain": [
       "<Figure size 720x504 with 2 Axes>"
      ]
     },
     "metadata": {
      "needs_background": "light",
      "tags": []
     },
     "output_type": "display_data"
    }
   ],
   "source": [
    "tf_result_full = tf_forest_full.predict(tf_X_test_full)\n",
    "\n",
    "#import matplotlib.pyplot as plt\n",
    "#import seaborn as sns\n",
    "#from sklearn.metrics import confusion_matrix\n",
    "\n",
    "tf_conf_mat_full = confusion_matrix(tf_y_test_full, tf_result_full)\n",
    "\n",
    "df_cm = pd.DataFrame(tf_conf_mat_full, index = [i for i in columns], columns = [i for i in columns])\n",
    "plt.figure(figsize = (10,7))\n",
    "sns.heatmap(df_cm, annot=True, fmt='g')"
   ]
  },
  {
   "cell_type": "code",
   "execution_count": 59,
   "metadata": {
    "colab": {
     "base_uri": "https://localhost:8080/"
    },
    "id": "OWLdwxpqDX7x",
    "outputId": "cd28d492-b814-42d8-8856-d5844859aae0"
   },
   "outputs": [
    {
     "name": "stdout",
     "output_type": "stream",
     "text": [
      "Tfidf_vectorization_full time: 342.12417340278625 seconds \n",
      "\n"
     ]
    }
   ],
   "source": [
    "time_Tfidf_vectorization_full = end_timer('Tfidf_vectorization_full')"
   ]
  },
  {
   "cell_type": "markdown",
   "metadata": {
    "id": "Po7SeMHOXdxW"
   },
   "source": [
    "<font size=\"5\">Vectorization limiting the features</font>"
   ]
  },
  {
   "cell_type": "code",
   "execution_count": 64,
   "metadata": {
    "id": "cPFfIqRAW6uR"
   },
   "outputs": [],
   "source": [
    "start_timer('Tfidf_vectorization_limited')"
   ]
  },
  {
   "cell_type": "code",
   "execution_count": 65,
   "metadata": {
    "colab": {
     "base_uri": "https://localhost:8080/"
    },
    "id": "6SA33bpLXgWS",
    "outputId": "c55daa73-a65e-4d5f-cbc9-15e3be6371aa"
   },
   "outputs": [
    {
     "data": {
      "text/plain": [
       "(14640, 2000)"
      ]
     },
     "execution_count": 65,
     "metadata": {
      "tags": []
     },
     "output_type": "execute_result"
    }
   ],
   "source": [
    "#from sklearn.feature_extraction.text import TfidfVectorizer\n",
    "\n",
    "tf_vectorizer_limited = TfidfVectorizer(max_features=2000)\n",
    "tf_features_limited = tf_vectorizer_limited.fit_transform(tweets_text['text'])\n",
    "\n",
    "tf_features_limited = tf_features_limited.toarray()\n",
    "\n",
    "tf_features_limited.shape"
   ]
  },
  {
   "cell_type": "code",
   "execution_count": 66,
   "metadata": {
    "id": "BMne4OjwXh-U"
   },
   "outputs": [],
   "source": [
    "#from sklearn.model_selection import train_test_split\n",
    "\n",
    "tf_X_train_limited, tf_X_test_limited, tf_y_train_limited, tf_y_test_limited = train_test_split(tf_features_limited, tweets_text.airline_sentiment, test_size=0.3, random_state=13)"
   ]
  },
  {
   "cell_type": "code",
   "execution_count": 67,
   "metadata": {
    "colab": {
     "base_uri": "https://localhost:8080/"
    },
    "id": "IXUz89A1XiBo",
    "outputId": "1e93c1d2-7acd-40c2-b61a-cfeabd9bccb0"
   },
   "outputs": [
    {
     "name": "stdout",
     "output_type": "stream",
     "text": [
      "RandomForestClassifier(bootstrap=True, ccp_alpha=0.0, class_weight=None,\n",
      "                       criterion='gini', max_depth=None, max_features='auto',\n",
      "                       max_leaf_nodes=None, max_samples=None,\n",
      "                       min_impurity_decrease=0.0, min_impurity_split=None,\n",
      "                       min_samples_leaf=1, min_samples_split=2,\n",
      "                       min_weight_fraction_leaf=0.0, n_estimators=10, n_jobs=4,\n",
      "                       oob_score=False, random_state=None, verbose=0,\n",
      "                       warm_start=False)\n",
      "0.7426912568306011\n"
     ]
    }
   ],
   "source": [
    "#from sklearn.ensemble import RandomForestClassifier\n",
    "#from sklearn.model_selection import cross_val_score\n",
    "\n",
    "import numpy as np\n",
    "\n",
    "tf_forest_limited = RandomForestClassifier(n_estimators=10, n_jobs=4)\n",
    "\n",
    "tf_forest_limited = tf_forest_limited.fit(tf_X_train_limited, tf_y_train_limited)\n",
    "\n",
    "print(tf_forest_limited)\n",
    "mean_Tfidf_vectorization_limited = np.mean(cross_val_score(tf_forest_limited, tf_features_limited, tweets_text.airline_sentiment, cv=10))\n",
    "print(mean_Tfidf_vectorization_limited)"
   ]
  },
  {
   "cell_type": "code",
   "execution_count": 68,
   "metadata": {
    "colab": {
     "base_uri": "https://localhost:8080/",
     "height": 450
    },
    "id": "GBEzIcmOaTb3",
    "outputId": "59ac3958-fe2f-4f27-c973-81d8b6375f2a"
   },
   "outputs": [
    {
     "data": {
      "text/plain": [
       "<matplotlib.axes._subplots.AxesSubplot at 0x7fb71c29e9b0>"
      ]
     },
     "execution_count": 68,
     "metadata": {
      "tags": []
     },
     "output_type": "execute_result"
    },
    {
     "data": {
      "image/png": "[encoded data removed]",
      "text/plain": [
       "<Figure size 720x504 with 2 Axes>"
      ]
     },
     "metadata": {
      "needs_background": "light",
      "tags": []
     },
     "output_type": "display_data"
    }
   ],
   "source": [
    "tf_result_limited = tf_forest_limited.predict(tf_X_test_limited)\n",
    "\n",
    "#import matplotlib.pyplot as plt\n",
    "#import seaborn as sns\n",
    "#from sklearn.metrics import confusion_matrix\n",
    "\n",
    "tf_conf_mat_limited = confusion_matrix(tf_y_test_limited, tf_result_limited)\n",
    "\n",
    "df_cm = pd.DataFrame(tf_conf_mat_limited, index = [i for i in columns], columns = [i for i in columns])\n",
    "plt.figure(figsize = (10,7))\n",
    "sns.heatmap(df_cm, annot=True, fmt='g')"
   ]
  },
  {
   "cell_type": "code",
   "execution_count": 69,
   "metadata": {
    "colab": {
     "base_uri": "https://localhost:8080/"
    },
    "id": "YrhUnpoQXiEe",
    "outputId": "07320d45-3a4e-4a83-cb0b-a32de6d0db8e"
   },
   "outputs": [
    {
     "name": "stdout",
     "output_type": "stream",
     "text": [
      "Tfidf_vectorization_limited time: 61.59297490119934 seconds \n",
      "\n"
     ]
    }
   ],
   "source": [
    "time_Tfidf_vectorization_limited = end_timer('Tfidf_vectorization_limited')"
   ]
  },
  {
   "cell_type": "markdown",
   "metadata": {
    "id": "muyO70Q4e18v"
   },
   "source": [
    "#Conclusion"
   ]
  },
  {
   "cell_type": "code",
   "execution_count": 72,
   "metadata": {
    "colab": {
     "base_uri": "https://localhost:8080/"
    },
    "id": "Y4HKHiXYe30r",
    "outputId": "38538acf-1c95-4f10-8264-74cc2b9f8cd3"
   },
   "outputs": [
    {
     "name": "stdout",
     "output_type": "stream",
     "text": [
      "Pre-processing time: 152.8591763973236 seconds\n",
      "\n",
      "CountVectorizer time without limit: 323.29976177215576 seconds\n",
      "CountVectorizer score without limit: 0.7379098360655737\n",
      "\n",
      "CountVectorizer time with 2000 limit: 55.85350298881531 seconds\n",
      "CountVectorizer score with 2000 limit:0.7368169398907104\n",
      "\n",
      "TfidfVectorizer time without limit: 342.12417340278625 seconds\n",
      "TfidfVectorizer score without limit: 0.7361338797814208\n",
      "\n",
      "TfidfVectorizer time with 2000 limit: 61.59297490119934 seconds\n",
      "TfidfVectorizer score with 2000 limit: 0.7426912568306011\n"
     ]
    }
   ],
   "source": [
    "print(\"Pre-processing time: %s seconds\" % time_pre_processing)\n",
    "print(\"\")\n",
    "print(\"CountVectorizer time without limit: %s seconds\" % time_count_vectorization_full)\n",
    "print(\"CountVectorizer score without limit: %s\" % mean_count_vectorization_full)\n",
    "print(\"\")\n",
    "print(\"CountVectorizer time with 2000 limit: %s seconds\" % time_count_vectorization_limited)\n",
    "print(\"CountVectorizer score with 2000 limit:%s\" % mean_count_vectorization_limited)\n",
    "print(\"\")\n",
    "print(\"TfidfVectorizer time without limit: %s seconds\" % time_Tfidf_vectorization_full)\n",
    "print(\"TfidfVectorizer score without limit: %s\" % mean_Tfidf_vectorization_full)\n",
    "print(\"\")\n",
    "print(\"TfidfVectorizer time with 2000 limit: %s seconds\" % time_Tfidf_vectorization_limited)\n",
    "print(\"TfidfVectorizer score with 2000 limit: %s\" % mean_Tfidf_vectorization_limited)"
   ]
  },
  {
   "cell_type": "markdown",
   "metadata": {
    "id": "uykmAjW0jF1H"
   },
   "source": [
    "<font size=\"5\">Pre-processing</font>\n",
    "<br>\n",
    "<br>\n",
    "\n",
    "<font size=\"4\">I had to try a few times, because of the order needed to get a good result.\n",
    "The symbols removal had to be done in the stopwords list too, because the tokens in the execution time don't had any symbol, and the stopword were not matching without the cleaning</font>\n",
    "\n",
    "---\n",
    "<font size=\"4\">Another point was to remove the first token, that in this case was the company name, because I didn't want my model being affected by this information</font>\n",
    "\n",
    "---\n",
    "<font size=\"4\">Because of my experience in software development, I already had knowledge of Regex and Html encoding / tags, so it was quite linear for me the process to clear this kind of noise</font>\n",
    "\n",
    "---\n",
    "<font size=\"4\">The most expencive was the Lemmatization, that took 147 seconds, but the results were better in my perspective than Stemming. The Stemming try runned in only 2.9 seconds, but many words were broken. Funny enough, the word \"need\" was broken in the Lemmatization and not in Stemming.</font>\n",
    "<br>\n",
    "<br>"
   ]
  },
  {
   "cell_type": "markdown",
   "metadata": {
    "id": "YWs0c9iEpYFi"
   },
   "source": [
    "<font size=\"5\">Vectorization and model evaluation</font>\n",
    "<br>\n",
    "<br>\n",
    "\n",
    "<font size=\"4\">The CountVectorizer and the TfidfVectorizer were executed in a similar time, beeing the first a little faster</font>\n",
    "\n",
    "---\n",
    "<font size=\"4\">The CountVectorizer had a little advantage evaluation of neutral \n",
    "and negative sentiments</font>\n",
    "\n",
    "---\n",
    "<font size=\"4\">The TfidfVectorizer had a little advantage evaluation of positive sentiments</font>\n",
    "\n",
    "---\n",
    "<font size=\"4\">Both vectorizers had almost no change in the score between unlimited features (14858), and the limit of \"2000\"</font>\n",
    "\n",
    "---\n",
    "<font size=\"4\">TfidfVectorizer had a questionable advantage in the score</font>"
   ]
  },
  {
   "cell_type": "code",
   "execution_count": null,
   "metadata": {},
   "outputs": [],
   "source": []
  }
 ],
 "metadata": {
  "colab": {
   "collapsed_sections": [],
   "name": "Project 8 - NLP.ipynb",
   "provenance": []
  },
  "kernelspec": {
   "display_name": "Python 3",
   "language": "python",
   "name": "python3"
  },
  "language_info": {
   "codemirror_mode": {
    "name": "ipython",
    "version": 3
   },
   "file_extension": ".py",
   "mimetype": "text/x-python",
   "name": "python",
   "nbconvert_exporter": "python",
   "pygments_lexer": "ipython3",
   "version": "3.8.3"
  }
 },
 "nbformat": 4,
 "nbformat_minor": 1
}
